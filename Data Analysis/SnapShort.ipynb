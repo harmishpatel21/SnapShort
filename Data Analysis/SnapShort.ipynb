{
  "nbformat": 4,
  "nbformat_minor": 0,
  "metadata": {
    "colab": {
      "name": "SnapShort.ipynb",
      "provenance": [],
      "collapsed_sections": [],
      "authorship_tag": "ABX9TyN7fJ4hD5R7amX2l6oZEzxB",
      "include_colab_link": true
    },
    "kernelspec": {
      "name": "python3",
      "display_name": "Python 3"
    }
  },
  "cells": [
    {
      "cell_type": "markdown",
      "metadata": {
        "id": "view-in-github",
        "colab_type": "text"
      },
      "source": [
        "<a href=\"https://colab.research.google.com/github/harmishpatel21/SnapShort/blob/main/SnapShort.ipynb\" target=\"_parent\"><img src=\"https://colab.research.google.com/assets/colab-badge.svg\" alt=\"Open In Colab\"/></a>"
      ]
    },
    {
      "cell_type": "code",
      "metadata": {
        "id": "DW-UubKJS43L",
        "outputId": "d4059e21-0c37-434e-ff35-9788158e547c",
        "colab": {
          "base_uri": "https://localhost:8080/"
        }
      },
      "source": [
        "!git clone https://github.com/harmishpatel21/SnapShort.git"
      ],
      "execution_count": 1,
      "outputs": [
        {
          "output_type": "stream",
          "text": [
            "Cloning into 'SnapShort'...\n",
            "remote: Enumerating objects: 12, done.\u001b[K\n",
            "remote: Counting objects: 100% (12/12), done.\u001b[K\n",
            "remote: Compressing objects: 100% (11/11), done.\u001b[K\n",
            "remote: Total 12 (delta 1), reused 0 (delta 0), pack-reused 0\u001b[K\n",
            "Unpacking objects: 100% (12/12), done.\n"
          ],
          "name": "stdout"
        }
      ]
    },
    {
      "cell_type": "code",
      "metadata": {
        "id": "f5H2atrEUZXl"
      },
      "source": [
        "import pandas as pd\n",
        "import numpy as np\n",
        "import json\n"
      ],
      "execution_count": 2,
      "outputs": []
    },
    {
      "cell_type": "code",
      "metadata": {
        "id": "xTmuN7WQUZi4",
        "outputId": "dd53eba5-ede6-4fdf-98a3-12621fd90b7b",
        "colab": {
          "base_uri": "https://localhost:8080/",
          "height": 289
        }
      },
      "source": [
        "# Read Json file\n",
        "data = pd.read_json(\"/content/SnapShort/data000000000000.json\", lines= True)\n",
        "data.head()\n"
      ],
      "execution_count": 3,
      "outputs": [
        {
          "output_type": "execute_result",
          "data": {
            "text/html": [
              "<div>\n",
              "<style scoped>\n",
              "    .dataframe tbody tr th:only-of-type {\n",
              "        vertical-align: middle;\n",
              "    }\n",
              "\n",
              "    .dataframe tbody tr th {\n",
              "        vertical-align: top;\n",
              "    }\n",
              "\n",
              "    .dataframe thead th {\n",
              "        text-align: right;\n",
              "    }\n",
              "</style>\n",
              "<table border=\"1\" class=\"dataframe\">\n",
              "  <thead>\n",
              "    <tr style=\"text-align: right;\">\n",
              "      <th></th>\n",
              "      <th>publication_number</th>\n",
              "      <th>abstract</th>\n",
              "      <th>application_number</th>\n",
              "      <th>description</th>\n",
              "    </tr>\n",
              "  </thead>\n",
              "  <tbody>\n",
              "    <tr>\n",
              "      <th>0</th>\n",
              "      <td>US-2006134160-A1</td>\n",
              "      <td>this invention relates to novel calcium phosph...</td>\n",
              "      <td>US-52740605-A</td>\n",
              "      <td>throughout the following description specific ...</td>\n",
              "    </tr>\n",
              "    <tr>\n",
              "      <th>1</th>\n",
              "      <td>US-4592498-A</td>\n",
              "      <td>a stapler , particularly for suturing skin wou...</td>\n",
              "      <td>US-71138185-A</td>\n",
              "      <td>preferred embodiments of the invention are ill...</td>\n",
              "    </tr>\n",
              "    <tr>\n",
              "      <th>2</th>\n",
              "      <td>US-2014379009-A1</td>\n",
              "      <td>a nerve guidance conduit includes a spiral str...</td>\n",
              "      <td>US-201414313384-A</td>\n",
              "      <td>embodiments of the present invention provide n...</td>\n",
              "    </tr>\n",
              "    <tr>\n",
              "      <th>3</th>\n",
              "      <td>US-4157173-A</td>\n",
              "      <td>a rail connector and improvement in seat base ...</td>\n",
              "      <td>US-86596677-A</td>\n",
              "      <td>referring now to the drawings , and particular...</td>\n",
              "    </tr>\n",
              "    <tr>\n",
              "      <th>4</th>\n",
              "      <td>US-2017360443-A1</td>\n",
              "      <td>an anvil assembly is disclosed that includes a...</td>\n",
              "      <td>US-201715606289-A</td>\n",
              "      <td>exemplary embodiments of the presently disclos...</td>\n",
              "    </tr>\n",
              "  </tbody>\n",
              "</table>\n",
              "</div>"
            ],
            "text/plain": [
              "  publication_number  ...                                        description\n",
              "0   US-2006134160-A1  ...  throughout the following description specific ...\n",
              "1       US-4592498-A  ...  preferred embodiments of the invention are ill...\n",
              "2   US-2014379009-A1  ...  embodiments of the present invention provide n...\n",
              "3       US-4157173-A  ...  referring now to the drawings , and particular...\n",
              "4   US-2017360443-A1  ...  exemplary embodiments of the presently disclos...\n",
              "\n",
              "[5 rows x 4 columns]"
            ]
          },
          "metadata": {
            "tags": []
          },
          "execution_count": 3
        }
      ]
    },
    {
      "cell_type": "code",
      "metadata": {
        "id": "Hf4rgszWUZqg"
      },
      "source": [
        "data[\"description\"][0]"
      ],
      "execution_count": null,
      "outputs": []
    },
    {
      "cell_type": "code",
      "metadata": {
        "id": "Tyews6mnbGOO"
      },
      "source": [
        "# import nltk\n",
        "# import re\n",
        "# import string\n",
        "# from nltk.tokenize import word_tokenize, sent_tokenize\n",
        "# from nltk.corpus import stopwords\n",
        "# from nltk.stem import PorterStemmer # or LancasterStemmer, RegexpStemmer, SnowballStemmer\n",
        "\n",
        "# default_stemmer = PorterStemmer()\n",
        "# default_stopwords = stopwords.words('english') # or any other list of your choice\n",
        "# def clean_text(text, ):\n",
        "\n",
        "#     def tokenize_text(text):\n",
        "#         return [w for s in sent_tokenize(text) for w in word_tokenize(s)]\n",
        "\n",
        "#     def remove_special_characters(text, characters=string.punctuation.replace('-', '')):\n",
        "#         tokens = tokenize_text(text)\n",
        "#         pattern = re.compile('[{}]'.format(re.escape(characters)))\n",
        "#         return ' '.join(filter(None, [pattern.sub('', t) for t in tokens]))\n",
        "\n",
        "#     def stem_text(text, stemmer=default_stemmer):\n",
        "#         tokens = tokenize_text(text)\n",
        "#         return ' '.join([stemmer.stem(t) for t in tokens])\n",
        "\n",
        "#     def remove_stopwords(text, stop_words=default_stopwords):\n",
        "#         tokens = [w for w in tokenize_text(text) if w not in stop_words]\n",
        "#         return ' '.join(tokens)\n",
        "\n",
        "#     text = text.strip(' ') # strip whitespaces\n",
        "#     text = text.lower() # lowercase\n",
        "#     # text = stem_text(text) # stemming\n",
        "#     text = remove_special_characters(text) # remove punctuation and symbols\n",
        "#     # text = remove_stopwords(text) # remove stopwords\n",
        "#     #text.strip(' ') # strip whitespaces again?\n",
        "\n",
        "#     return text"
      ],
      "execution_count": null,
      "outputs": []
    },
    {
      "cell_type": "code",
      "metadata": {
        "id": "oP-Jty-Vewrq",
        "outputId": "d6dc8a05-6b99-4315-d053-660a5f805e99",
        "colab": {
          "base_uri": "https://localhost:8080/",
          "height": 174
        }
      },
      "source": [
        "import re\n",
        "pattern = \"[^\\x00-\\x7F]+\"\n",
        "\n",
        "new_string = re.sub(pattern, \"\", data[\"description\"][0])\n",
        "new_string"
      ],
      "execution_count": 4,
      "outputs": [
        {
          "output_type": "execute_result",
          "data": {
            "application/vnd.google.colaboratory.intrinsic+json": {
              "type": "string"
            },
            "text/plain": [
              "'throughout the following description specific details are set forth in order to provide a more thorough understanding of the invention . however , the invention may be practiced without these particulars . in other instances , well known elements have not been shown or described in detail to avoid unnecessarily obscuring the present invention . accordingly , the specification and drawings are to be regarded in an illustrative , rather than a restrictive , sense . the invention in one embodiment is directed to implantable medical devices with a flexible thin film calcium phosphate bio - compatible and bio - resorbable coating that has the ability to act as a high capacity drug carrier . such cap coatings have no side - effects during coating dissolution into body fluids , and can be designed with a high level of control of coating dissolution rate and microstructure , which also determine the drug retention and release characteristics . of all the types of implantable medical devices that exist , the coronary stents utilized in balloon angioplasty procedures provide a useful model for testing the effectiveness of sol - gel deposited thin flexible cap coatings on such stents due to the fact that such stents are designed to be flexible . the use of such stents in the examples below should not , however , be considered as limiting the application of the cap coatings described only to stents . the invention has broad application to virtually any type of body implantable device . we have determined unexpectedly that the intrinsic brittle behaviour of cap ceases to limit the system strain capability if the strongly bonded coating is sol - gel deposited and is thinner than approximately 0 . 001 mm . experiments involving repeated contraction / expansion of such thin cap sol - gel coated stents reveal that there is no separation of the coating from the stent , nor visible damage to the coating , if the coating is thinner than about 0 . 001 mm and is strongly bonded to the substrate ( the tensile bond strength should be larger than about 40 mpa , as measured in model strength experiments according to astm c - 633 standard ). in addition , we have discovered that if the novel sol - gel process for deposition of calcium phosphates , in particular hydroxyapatite ( ha ) synthesis ( as previously disclosed in our u . s . pat . no . 6 , 426 , 114 b1 , jul . 30 , 2002 ,  sol - gel calcium phosphate ceramic coatings and method of making same , by t . troczynski and d . liu ) is used , the resulting thin flexible coating has controlled porosity which may be utilized to retain drugs within the coating , and release the drugs at a controlled rate . the invention pertains to a sol - gel ( sg ) process for synthesis of calcium phosphate , in particular , hydroxyapatite ( ha ), thin film coatings on implantable medical devices . the process allows the ha to be obtained in a controlled crystallized form , at a relatively low temperatures , i . e . starting at  350  c . this is an unexpectedly low crystallization temperature for ha sol - gel synthesis . the process provides excellent chemical and physical homogeneity , and bonding strength of ha coatings to substrates . the low process temperature avoids substrate metal degradation due to thermally - induced phase transformation , microstructure deterioration , or oxidation . disclosed herein is a method wherein uniform films of hydroxyapatite by the electro - phoretic deposition ( epd ) method ( epd - ha ) are deposited on complex stent surface , and there is no need to pursue sintering in excess of 500  c . to achieve substantial structural integrity of the film and its high bonding strength to the metallic substrate . in this method , the first step is the well - known epd of the ha film , for example as disclosed in u . s . pat . no . 5 , 258 , 044 , using suspension of sub - micrometer particles of ha in water . this film is dried and then heat treated at 500  c . for 10 - 60 minutes to initiate sintering of ha . the film is still too weak and too poorly bonded for practical use as a coating on stent or other medical device or implant , but is sufficiently strong to survive the subsequent processing step comprising impregnation by aero - sol - gel ha droplets . the droplets penetrate porosity of the previously deposited epd - ha , strongly aided by the capillary suction . thus , majority of the pores of the epd - ha film are penetrated by the sol - gel precursor of ha , all the way to the metallic substrate . this composite film can be now dried and sintered at a relatively low temperature or 400 - 500  c ., due to the very high activity of the sol - gel component of the film . the sol - gel film bonds the particles of ha deposited by epd , and bonds well to the metallic substrate during the heat treatment thus , both the film uniformity ( due to epd process ) and low - temperature sinterability ( due to sol - gel process ) have been achieved . this novel and inventive hybrid technology for uniform ha coatings on stents has the ability to produce films in thickness range from about 1 micron to above 100 microns , with porosity in the range from about 10 vol % to about 70 vol %. such porous thick ha films are excellent carriers for drugs loaded through impregnation into open porosity of the film . details of such hybrid process , and its several variants , for preparation of ha films on stents , are given in the examples below . problems with drug delivery in vivo are frequently related to the toxicity of the carrier agent , the generally low loading capacity for drugs , and the aim to control drug delivery resulting in self - regulated , timed release . with the exception of colloidal carrier systems , which support relatively high loading capacity for drugs , most organic systems deliver inadequate levels of bioactive drugs . sol - gel films heat - treated at relatively low temperatures closely resemble the properties of colloidal films , in terms of accessible surface area and porosity size . the sol - gel process according to the invention allows the calcium phosphate to be obtained in a crystallized form , at relatively low temperature , i . e . approximately 350 - 500  c . variation of the heat treatment temperature and time provides for control of coating crystallinity ( i . e . a more amorphous , more easily resorbable coating can be processed at lower temperatures ) as well as coating porosity ( higher porosity and smaller average pore size at lower temperatures ). variation of ca / p ratio in the sol - gel precursor mix allows one to obtain various calcium phosphate phases , for example , hydroxyapatite , dicalcium phosphate , tricalcium phosphate or tetracalcium phosphate . the invention in one embodiment is directed to a sol - gel process for preparing calcium phosphate , such as hydroxyapatite , which comprises : ( a ) hydrolysing a phosphor precursor in a water or alcohol based medium ; ( b ) adding a calcium salt precursor to the medium after the phosphite has been hydrolysed to obtain a calcium phosphate gel such as a hydroxyapatite gel ; ( c ) depositing the gel on the surface of an implantable medical device ; and ( d ) calcining the calcium phosphate , such as hydroxyapatite , at a suitable elevated temperature and for pre - determined time to achieve desired crystallinity , bonding and porosity characteristics for the coating on the device . the deposition of the gel can be done by any number of methods , such as aero - sol deposition , dip - coating , spin - coating , electrophoretic deposition . in a preferred embodiment , the phosphor precursor can be an alkyl phosphite and the alkyl phosphite can be triethyl phosphite . further the calcium precursor can be a water - soluble calcium salt and the water soluble calcium salt can be calcium nitrate . the crystallized calcium phosphate can be calcined at a temperature of at about 350  c . or higher . the metallic implantable medical device can be stainless steel , cobalt alloy , a titanium substrate or other metallic alloy substrate . we have discovered that if certain specific characteristics of the calcium phosphate coatings are maintained , the coatings become highly flexible while maintaining their chemistry , high bio - compatibility , and bio - resorbability . the most important characteristics are ( a ) coating thickness , and ( b ) the strength of the coating bonding to the metallic substrate . we have repeatedly demonstrated ( refer to the examples below ) that if cap coating thickness is maintained below about 0 . 001 mm , and its bonding strength to the metallic substrate is above approximately 40 mpa , the substrate - coating system retains the strain capabilities of the substrate alone , i . e . the system maintains its integrity during deformation . furthermore , we have discovered that thicker cap coatings deposited discontinuously on metallic substrate , i . e . in the form of separate  islands  and  patches  approximately 1 - 100 m in diameter , retain high resistance against substrate deformation . our experiments have shown that stents coated with such 1 - 100 m patches , about 1 - 10 m thick , can be crimped and then expanded without damage to the patches of ceramic . these patches can be deposited on the substrate through a variety of methods discussed above , such as bm - ha , ecd - ha , cpc - ha ( all at room or near - room temperature ), or epd - ha , sg - ha and combinations thereof ( these two techniques including heat treatment at elevated temperatures ). these coating deposition techniques are illustrated in the following examples . the discontinuous cap film coated medical implant may have some fraction of an area of the metallic substrate exposed to living tissue , which may again lead to the adverse tissue reaction described above . this problem can be avoided by combining discontinuous cap films with a continuous bio - compatible and non - thrombogenic polymer . thus , a composite cap - polymer coating on medical implant is the result . furthermore , a thin (& lt ; 0 . 001 mm ) continuous cap coating can be combined with a thicker discontinuous cap coating . the effects of this process ( described in detail in the examples ) are shown in the representative fig1 and 2 . fig1 a illustrates stainless steel ( 316l ) stent coated with discontinuous asg - ha thin film ; fig1 b is a magnification of the sector of ( a ) indicated by the rectangle . fig2 a illustrates a stainless steel ( 316l ) stent coated with discontinuous asg - ha thin film and crimped , with no damage to the coating . fig2 b is the same stent after expansion , showing no damage to the coating . our discovery of flexible continuous / discontinuous cap films or cap / polymer films opens up a range of new applications of highly biocompatible cap coatings for medical implants , particularly , but not limited to those that require deformation capability such as coronary stents . a sol - gel ( sg ) process provides superior chemical and physical homogeneity of the final ceramic product compared to other routes , such as solid - state synthesis , wet precipitation , or hydrothermal formation . the sg process allows the desired ceramic phase , e . g . thin film cap coating , to be synthesized at temperatures much lower than some of the alternate processes . in the sg coating process substrate metal degradation due to thermally induced phase transformations and microstructure modification or oxidation , is avoided . sg widens green - shaping capability , for example , and it is a very convenient method for deposition of thin ceramic coatings . sol - gel deposition of ha ( sg - ha ) films at elevated temperatures ( 350 - 500  c .) was disclosed previously in u . s . pat . no . 6 , 426 , 114 b1 . sol - gel ( sg ) processing of ha allows molecular - level mixing of the calcium and phosphor precursors , which improves the chemical homogeneity of the resulting calcium phosphate . the crystallinity of the calcium phosphate phase can be enhanced by appropriate use of water treatment during processing . variation of ca / p ratio in the sol - gel precursor mix allows one to obtain any of a number of calcium phosphate phases , for example , hydroxyapatite , dicalcium phosphate , tricalcium phosphate or tetracalcium phosphate . the versatility of the sg method provides an opportunity to form thin film coatings , either continuous or discontinuous , in a rather simple process of dip - coating , spin - coating or aero - sol deposition . a high degree of ha crystallinity is frequently required for longer - term bioactive applications , because partially crystalline , or amorphous calcium phosphate , such as ha , coatings are rapidly resorbed by living tissue . for the presently disclosed application of thin ha films on implantable medical devices , control of crystallinity of the ha coating is possible through variation of the time / temperature history during processing . this allows control of the coating resorption rate and thus rate of release of the drugs impregnated into microporosity of the coating . ceramics produced by sol - gel processing can be designed to include high fraction of pores , with well - defined ( narrowly distributed ) pore size . this is a consequence of the chemical route to the final oxide ceramic produced through sg . only a small fraction of the original precursor mass is finally converted to the ceramic oxide , the remaining fraction being released during heat treatment , usually in the form of gas , is usually as a combination of water and carbon dioxide . thus , the released gases leave behind a large fraction of porosity , up to 90 % in some instances , depending on the drying conditions and heat treatment time and temperature . these pores can be as small as several nm in diameter , again depending on the drying conditions and heat treatment time and temperature . effectively , the accessible surface area of such sol - gel derived oxide ceramics can reach several hundred square meters per gram of the oxide , making it an excellent absorbent of gas or liquid substances , or solutions . for example , the average pore size in sol - gel ha treated at relatively low temperature of 400  c . is about 5 nm in diameter , with 90 % of pore diameters falling within the range of 1 - 30 nm . this unique porosity characteristic is widely utilized to produce desiccants , filters and membranes of sol - gel derived ceramic . in this respect sol - gel derived ceramic oxides have a great advantage over polymers , which are in general difficult to process to possess high porosity and high accessible surface area . in the present invention , we utilize this unique property of sol - gel derived cap coatings on medical implants , especially stents , possessing high accessible surface area to make it a high - capacity drug carrier . in the text of this application , it is understood that when appropriate , the term  calcium phosphate  ( cap ) is used generically and includes minerals such as hydroxyapatite , dicalcium phosphate , tricalcium phosphate , tetracalcium phosphate and amorphous or partially amorphous calcium phosphate . studies on the sol - gel route to thin film calcium phosphate coatings on implantable medical devices , particularly stents , performed by the inventors have led to an unexpected break - through in process development . the method according to the invention has produced cap coatings after heat treatment in air , starting at about 350  c . we have unexpectedly discovered that the film is highly flexible if it is thinner than about 0 . 001 mm , thereby allowing damage - free manipulation of a cap coated deformable implantable medical device , for example the contraction and expansion of a cap coated stent . preferably , the coating has a thickness between about 0 . 0001 and 0 . 001 mm . furthermore , in this application , we have discovered that the film can accept drugs into its fine porosity , thereby allowing it to address the adverse phenomena related to common medically implanted devices , i . e . the restenosis that occurs after placement of a coronary stent in a blood vessel . the calcium phosphate coating according to the invention has been deposited on stents and other metallic surfaces using variety of techniques , including dip - coating , spin - coating , aero - sol deposition electrophoretic deposition . the coatings were deposited on stents made of 316l stainless steel and tubes , and on other metallic substrates including cobalt - iron alloy and titanium . to demonstrate the feasibility of the unique processing concepts outlined above , the following examples are described below for stainless steel substrate and coronary stents . the procedures outlined below can be applied to other implantable medical devices . in the first stage of the process , phosphite sol was hydrolysed in a water - ethanol mixture ( a concentration of 3m ) in a sealed beaker until the phosphite was completely hydrolysed ( which is easily recognized by loss of a characteristic phosphite odour ), at ambient environment . a ca salt ( 2m ) was then dissolved in anhydrous ethanol , and the solution was then rapidly added into the hydrolysed phosphite sol . the sol was left at ambient environment for 8 hours , followed by drying in an oven at 60  c . as a result of this process , a white gel was obtained . for the sol containing ca / p ratio required to produce ha , the gel showed a pure ( single phase ) apatitic structure with a ca / p ratio of 1 . 666 , identical to stoichiometric ha , after calcining at a temperature as low as 350  c . varying the ca / p ratio allows other calcium phosphates , such as dicalcium phosphate ( ca / p = 1 ) or tricalcium phosphate ( ca / p = 1 . 5 ), to be obtained . a coating produced using this process , and applied to 316 ss substrate , showed adhesive strength of about 40 mpa after curing at a temperature & lt ; 450  c . the coating was crack - free and porous . in another variant of the process , a pure water - based environment was used . the aqueous - based sols were prepared in the same manner as described above in example 1 for the ethanol - based system . a higher rate of hydrolysis of the phosphite sol was observed . the mixed sol was dried while stirring . after 8 hours aging , a white gel appeared . for the sol containing a ca / p ratio required to produce ha an apatitic structure with ca / p ratio of 1 . 663 , close to stoichiometric ha , resulted after calcining the gel at a temperature of 350  c . both the ethanol - based and aqueous - based gels showed essentially the same apatitic structure at relatively low temperatures . this invention provides a method of synthesizing the ha ceramics via an aqueous - based sol - gel process . a cap coating was deposited on the surfaces of a group of electropolished stainless steel stents through aerosol - gel processing . the stents were first treated in 2 . 4 n phosphoric acid solution for 10 minutes at 70  c . to clean the surface and produce microroughness for increased bonding of the coating . the treated stents were ultrasonically cleaned and dried . the cap sol was prepared by ( a ) hydrolysing a phosphor precursor ( phosphite ); ( b ) adding a calcium salt precursor to the medium after the phosphite has been hydrolysed to obtain a calcium phosphate sol such as a hydroxyapatite sol . the sol was atomized into  4 m large particles using ultrasonically assisted atomizer , and the resulting aerosol fed into a coating chamber . this specific deposition technique is referred to as aero - sol - gels ( asg ) deposition and the resulting hydroxyapatite film as asg - ha . the clean stent was inserted into the coating chamber filled with flowing cap aerosol - gel for a period of 30 seconds , while maintaining the aerosol flow at 0 . 1 liter / min and chamber temperature at 50  c . the temperature of the coating chamber affects the deposition mode of the coating , producing a uniform , film like coverage of the surface as evidenced by sem . the coating was dried at 60  c . and heat treated at 450  c . for 15 min to crystallize cap to form hydroxyapatite thin film . the procedure produces a thin coating covering uniformly the surface of the stent . the thickness of the coating is measured using ellipsometry in the range of 50 - 150 nm . the subsequent sem studies on the crimped and expanded coated stents show no evidence of cracking or delamination of the coating . this proves the reliability of the uniform , thin continuous cap coating during the deployment and implantation of the stent into the coronary artery . cap coating has been deposited on the surface of an electropolished stainless steel stents through aerosol - gel processing ( asg ), as described in example 3 . the chamber temperature was maintained at 25  c . the coating was dried at 60  c . and heat treated at 450  c . for 15 min to crystallize cap to form hydroxyapatite thin film . the procedure explained above produces a coating comprising of isolated island of approximately 2 - 6 m in size and 0 . 1 - 2 m in thickness , scattered uniformly on the surface of the stent , and covering about 70 % of the surface of the stent , as shown in fig1 a and 1b . subsequent sem studies on the crimped and expanded coated stents showed no evidence of cracking or delamination of the coating , as shown in fig2 a and 2b . this proves the reliability of the discontinuous cap coating of variable thickness during the deployment and implantation of the stent into the coronary artery . stainless steel metallic substrates ( 316l ) were coated with a 0 . 6 - 0 . 8 m thin layer of apatite ( asg - ha ) as described in example 3 . one group of samples was annealed at 400  c . for 20 min to achieve crystalline sg - ha ( c ) film and another group at 375  c . for 60 min to achieve amorphous sg - ha ( a ) film . these films were used as nucleation site for precipitation of bm - ha film . the sg - ha coated samples were immersed into  simulated body fluid  ( sbf ) of ionic composition ( in units of mmol / l ) 142 na + , 5 . 0 k + , 2 . 5 c 2 + , 1 . 5 mg 2 + , 103 cl  , 25 hco 3  , 1 . 4 hpo 4 2  , and 0 . 5 so 4 2  . the sbf was buffered at ph 7 . 4 with tris ( hydroxymethyl )- aminomethane and hcl . this in - vitro static deposition ( i . e . the sbf was not renewed during the deposition period ) at  24  c . produced good quality , dense 3 - 5 m thick bm - ha film deposits on flat sg - ha substrates . the crystalline sg - ha ( c ) film is coated with dense bm - ha , whereas amorphous sg - ha ( a ) film is coated with porous bm - ha . the properties of the underlying sg - ha surface modification film can be used to vary the properties , e . g . porosity , of the nucleated and deposited top bm - ha film for drug encapsulation . stainless steel metallic stents ( 316l ) were coated with  0 . 1 m thin cap coatings as described in example 3 . an inorganic colloidal slurry containing calcium phosphate precursor ca ( oh ) 2 and calcium phosphate salt monocalcium phosphate anhydrate , was ball milled in ethanol . the two starting inorganic ingredients had particle size 0 . 3 - 2 m and 0 . 5 - 4 m , respectively . the initial ca / p ratio in the slurry was kept at 1 . 5 . as dissolution and precipitation are the principal mechanisms for apatite development in such system , 5 wt % of submicron , crystalline hydroxyapatite powder was used as seeds for heterogeneous nucleation of cpc - ha . the thin cap film surface - modified sample was dip coated in the ethanol suspension of the precursors . after single dip coating , an approximately 10 m thick layer of porous precursor powder mixture developed on the substrate due to rapid evaporation of ethanol . due to the colloidal nature of the precursors slurry , this film develops sufficient structural integrity ( i . e . strength and hardness ) to accept the next processing step . in this step , the film is exposed to sodium phosphate water - based solution ( 0 . 25 m ), which is allowed to soak into the open pores of the film , and then placed in an incubator at 37  c ., 100 % relative humidity , for 24 h . during incubation , the colloidal precursors react with the phosphate liquid and precipitate ha . in order to assess the possibility of using this double - coating route for controlled drug release , amethopterin ( sigma chemicals , usa ) was employed as a model drug , in an amount of 5 % based on solid phase content of cpc - ha precursors . the drug was mixed with the colloidal suspension of the precursors , before dip coating was performed . during incubation period , 20 m thick cpc - ha coating precipitated encapsulating the drug molecules within the nanopores of the crystallizing ha . after encapsulation , a drug release study was conducted by immersion of the substrates into 20 ml of phosphate buffer saline ( pbs , ph = 7 . 4 ) at constant ratio of ( cpc coating weight )/( volume of pbs ) of 1 mg / ml . a reference sample coated with hydrogel film was also tested for drug release kinetics . the hydrogel film was prepared by dipping the cpc - ha layer containing the drug into a polymer solution containing 3 % polyvinyl alcohol . after drying , the weight gain of the  20 mg cpc - ha layer due to the additional hydrogel coating was  0 . 5 mg , corresponding to the content of polymer film in the cpc - ha matrix of about 2 . 5 %. the samples of pbs liquid with released drug were periodically taken out ( i . e . entire liquid was emptied ) and refilled with the same amount of 20 ml of pbs . the drug concentration in the supernatant was determined via an uv - visible spectroscopy . although a burst effect was detected for both coatings over the initial period of about 8 h , a slower release is evident for the sample post - coated with hydrogel . a linear relationship was obtained between the amount of drug released and ( time ) 1 / 2 for the release time greater than 8 h . the stent was submerged into water - based , diluted suspension of sub - micron particles of hydroxyapatite , containing approximately 2 wt % of ha in the suspension . dc voltage of 5v was applied to the stent , for times varying from 5 seconds , to 10 minutes . as the particles of ha naturally attain positive charge in such solution , they are attracted to the stent surface which is also a negative electrode ( cathode ) in this system . the buildup of ha particles attracted to the stent ( cathode ) allows to produce an extremely uniformly coated surface , thickness of the coating varying as a function of time of application of voltage . the film uniformity is the biggest advantage of such electro - phoretic deposition ( epd ) processing , which is difficult to reproduce using other methods such as sol - gel processing . for the short time of 10 sec ., the epd - ha coating thickness is about 1 micrometer . this type of epd - ha coating on 316l stainless steel stent is illustrated in fig3 . for the longer times of several minutes , the coating thickness may exceed 10 micrometers . thus , in this epd process , a controlled thickness , uniform ha film may be produced . the as deposited film constitutes loosely bonded particles of ha , of porosity generally in excess of 50 vol %. in order to increase structural integrity and bonding strength to the substrate of such epd film , heat treatment is necessary at temperatures at least 500  c ., for times at least 10 minutes . the heat treatment of epd films proceeds at higher temperatures and longer times than sol - gel films , because ha particles deposited in the epd process are less reactive than those deposited in the sol - gel process . the goal of such heat treatment is to increase interparticle bonding , while providing sufficient residual porosity to maintain low stiffness and flexibility of the film , and to provide room for drug impregnation . the need for higher temperature and longer times heat treatment of epd films is a disadvantage , as the heat treatment process may adversely affect properties of the metallic substrate of the stent . the ha was deposited on a 316l stainless steel stent surface through epd process as described in the example 7 . the uniformly deposited epd film was heat treated at 500  c . for 10 minutes to achieve minimal structural integrity of the film , sufficient to survive handling and preventing re - fluxing of the film upon contact with liquid medium . such epd - coated stent was exposed to droplets of sol in the aero - sol - gel process described in example 3 . the sol droplets have penetrated open porosity of the epd film , and , by capillary attraction , located themselves mostly within negative curvature of the necks between epd deposited ha particles . such composite coating was heat treated again at 500  c . for 10 minutes . now the active sol - gel component of the coating allowed achieving high structural integrity of the film , while epd component of the coating allowed achieving high uniformity of coverage by the film . a uniform , porous ha film was achieved in this novel combined process . the electrochemical deposition ( ecd ) of hydroxyapatite ha has been conducted in the mixed aqueous solution of ca ( no 3 ) 2 4h 2 o and nh 4  h 2 po 4 . in this process ha is deposited on the cathodic ( negatively biased ) surface of stent or implant by the following reaction : 10ca 2 + + 6po 4 3  + 2oh  ca 10 ( po 4 ) 6 ( oh ) 2 ecd was conducted in the mixed aqueous solution of 0 . 02329 m ca ( no 3 ) 2 4h 2 o and 0 . 04347 m nh 4 h 2 po 4 . the stainless steel specimen , i . e . stent , was the cathode , and platinum was used as the anode . the ph was controlled at 4 . 0 with the addition of sodium hydroxide . the environment temperature was controlled at 40  c . 1  c . the coating morphology deposited at low current density ( 1 ma / cm 2 ) was a thin uniform porous structure , 1 - 2 micrometers thick for deposition time of 0 . 5 - 1 minute , as illustrated in fig4 . the ha was deposited on a 316l stainless steel stent surface through asg - ha process as described in the example 4 . the discontinuous network of ha patches left some of the stent surface uncoated . 5v dc bias voltage was applied to such pre - coated stent , and the stent submerged into suspension of submicron ha particles . the uncoated metallic surface of the stent preferentially attracted ha particles leading to preferential electrophoretic deposition ( epd ) of ha in these areas , to build the coating about 1 micrometer thick in about 10 seconds . the coated stent was heat treated at 500 c for 10 minutes . the epd - ha coated areas show increased porosity as compared to asg - ha coated areas , suitable for impregnation with drug carrying liquid . such composite engineered ha coating shows unique properties regarding mechanical performance and drug release properties . the ha was deposited on a 316l stainless steel stent surface through asg - ha process as described in the example 3 , followed by the process of ecd - ha deposition as described in example 9 , but on top of the already heat treated asg - ha . such composite engineered coating allowed to achieve substantially higher bonding strength ( as compared to ecd - ha deposited directly on metallic surface ), and capability of drug encapsulation during deposition of ecd - ha on top of asg - ha . the ha was deposited on two 316l stainless steel stents surface through asg - ha process as described in the example 4 . the coated stents were evaluated in the standard thromboresistance test in dogs . minimal thrombosis with a grade of 1 ( defined as thrombus found at one location only ) was observed in one out of two test sites . in the second test site , no thrombosis ( grade 0 ) was observed . the process for coating of calcium phosphate , in particular ha , bioactive ceramics , on implantable medical devices disclosed herein offers the following advantages in comparison to other processes and other coating materials on implantable medical devices : ( 1 ) the coating process , including cap sol synthesis , can be completed in ambient environment ( i . e . air ), in less than 24 hours . ( 2 ) the thin (& lt ; 0 . 001 mm ) adhesive cap coatings exhibit sufficient flexibility to survive substantial strain , e . g . during crimping and expanding of a coated stent , without coating damage or spallation ( 3 ) porous cap coatings can be produced , with controlled amount and size of the pores , which allows design flexibility in choice and absorption / release characteristics for the drug impregnated into the coating ( 4 ) the synthesis requires low temperature ( 350  c .) and short time (& lt ; 1 hour ) of calcination for formation of high quality , highly adhesive cap coating . low temperature calcination of the novel cap coatings on metals permits thermal treatment in an air environment without the risk of metal oxidation and possible property degradation due to microstructural deterioration or phase transformations . it will be clear for the person skilled in the art of sol - gel processing that coating deposition parameters , such as time , the flow rate of the aerosol , temperature of the coating chamber or the concentration of the sol - gel solution can be customized for different implantable medical device materials and applications producing various degree of coverage on the surface . similar manipulation and optimization of process parameters may be applied to other coating methods disclosed , i . e . dip - and spin - coating and electrophoresis , biomimetic coating , electrochemical deposition coating , calcium phosphate cement coating , electrophoretic deposition coating , as well as coating porosity distribution and ratio of the inorganic phase ( cap ) to organic phase ( biodegradable polymer ). these parameters were optimized for the particular cap coatings on the implantable medical devices described in the foregoing examples . it is well known that crystallinity and microporosity of hydroxyapatite directly affects its dissolution rate in body fluids . different heat treatment regimes and temperatures can be adopted to produce various degrees of crystallinity and microporosity to control the degradation of the coating into the body environment . this advantage is of a great importance where drug delivery capabilities are added to the implantable medical device surface coated with sol - gel derived cap . similar deposition process can be applied to coating other metallic surfaces , such as ti substrates or other alloys , such as cobalt - chromium - nickel - molybdenum - iron . a thin uniform thin ha coating is obtained . the results of this experiment provide basic evidence of the feasibility of the as described coating on implantable medical devices composed of non - metallic materials such as polymers . the nature of the process for cap coatings deposition according to the invention is such that it can be easily incorporated into the current production practice of metallic implantable medical devices . the water - based liquid precursors to cap ceramic coatings , simple deposition technique ( e . g . dipping or spin - coating or aerosol deposition or electrophoretic deposition , and others ) and low - temperature heat treatment in air make the process not unlike simple painting - curing operation which can be commercialized with relatively small effort . as will be apparent to those skilled in the art in the light of the foregoing disclosure , many alterations and modifications are possible in the practice of this invention without departing from the scope thereof . accordingly , the scope of the invention is to be construed in accordance with the substance defined by the following claims .'"
            ]
          },
          "metadata": {
            "tags": []
          },
          "execution_count": 4
        }
      ]
    },
    {
      "cell_type": "code",
      "metadata": {
        "id": "T9BYy8Sqew37"
      },
      "source": [
        "data['cleaned_description'] = data['description'].apply(lambda x: re.sub(pattern, '', x))\n",
        "data['cleaned_abstract'] = data['abstract'].apply(lambda x: re.sub(pattern, '', x))"
      ],
      "execution_count": 5,
      "outputs": []
    },
    {
      "cell_type": "code",
      "metadata": {
        "id": "Ny2RXoaoFmwN",
        "outputId": "14b2f12c-4b7c-4250-8856-76d9eee5807b",
        "colab": {
          "base_uri": "https://localhost:8080/",
          "height": 375
        }
      },
      "source": [
        "data.head()"
      ],
      "execution_count": 6,
      "outputs": [
        {
          "output_type": "execute_result",
          "data": {
            "text/html": [
              "<div>\n",
              "<style scoped>\n",
              "    .dataframe tbody tr th:only-of-type {\n",
              "        vertical-align: middle;\n",
              "    }\n",
              "\n",
              "    .dataframe tbody tr th {\n",
              "        vertical-align: top;\n",
              "    }\n",
              "\n",
              "    .dataframe thead th {\n",
              "        text-align: right;\n",
              "    }\n",
              "</style>\n",
              "<table border=\"1\" class=\"dataframe\">\n",
              "  <thead>\n",
              "    <tr style=\"text-align: right;\">\n",
              "      <th></th>\n",
              "      <th>publication_number</th>\n",
              "      <th>abstract</th>\n",
              "      <th>application_number</th>\n",
              "      <th>description</th>\n",
              "      <th>cleaned_description</th>\n",
              "      <th>cleaned_abstract</th>\n",
              "    </tr>\n",
              "  </thead>\n",
              "  <tbody>\n",
              "    <tr>\n",
              "      <th>0</th>\n",
              "      <td>US-2006134160-A1</td>\n",
              "      <td>this invention relates to novel calcium phosph...</td>\n",
              "      <td>US-52740605-A</td>\n",
              "      <td>throughout the following description specific ...</td>\n",
              "      <td>throughout the following description specific ...</td>\n",
              "      <td>this invention relates to novel calcium phosph...</td>\n",
              "    </tr>\n",
              "    <tr>\n",
              "      <th>1</th>\n",
              "      <td>US-4592498-A</td>\n",
              "      <td>a stapler , particularly for suturing skin wou...</td>\n",
              "      <td>US-71138185-A</td>\n",
              "      <td>preferred embodiments of the invention are ill...</td>\n",
              "      <td>preferred embodiments of the invention are ill...</td>\n",
              "      <td>a stapler , particularly for suturing skin wou...</td>\n",
              "    </tr>\n",
              "    <tr>\n",
              "      <th>2</th>\n",
              "      <td>US-2014379009-A1</td>\n",
              "      <td>a nerve guidance conduit includes a spiral str...</td>\n",
              "      <td>US-201414313384-A</td>\n",
              "      <td>embodiments of the present invention provide n...</td>\n",
              "      <td>embodiments of the present invention provide n...</td>\n",
              "      <td>a nerve guidance conduit includes a spiral str...</td>\n",
              "    </tr>\n",
              "    <tr>\n",
              "      <th>3</th>\n",
              "      <td>US-4157173-A</td>\n",
              "      <td>a rail connector and improvement in seat base ...</td>\n",
              "      <td>US-86596677-A</td>\n",
              "      <td>referring now to the drawings , and particular...</td>\n",
              "      <td>referring now to the drawings , and particular...</td>\n",
              "      <td>a rail connector and improvement in seat base ...</td>\n",
              "    </tr>\n",
              "    <tr>\n",
              "      <th>4</th>\n",
              "      <td>US-2017360443-A1</td>\n",
              "      <td>an anvil assembly is disclosed that includes a...</td>\n",
              "      <td>US-201715606289-A</td>\n",
              "      <td>exemplary embodiments of the presently disclos...</td>\n",
              "      <td>exemplary embodiments of the presently disclos...</td>\n",
              "      <td>an anvil assembly is disclosed that includes a...</td>\n",
              "    </tr>\n",
              "  </tbody>\n",
              "</table>\n",
              "</div>"
            ],
            "text/plain": [
              "  publication_number  ...                                   cleaned_abstract\n",
              "0   US-2006134160-A1  ...  this invention relates to novel calcium phosph...\n",
              "1       US-4592498-A  ...  a stapler , particularly for suturing skin wou...\n",
              "2   US-2014379009-A1  ...  a nerve guidance conduit includes a spiral str...\n",
              "3       US-4157173-A  ...  a rail connector and improvement in seat base ...\n",
              "4   US-2017360443-A1  ...  an anvil assembly is disclosed that includes a...\n",
              "\n",
              "[5 rows x 6 columns]"
            ]
          },
          "metadata": {
            "tags": []
          },
          "execution_count": 6
        }
      ]
    },
    {
      "cell_type": "code",
      "metadata": {
        "id": "ZVZuolS-euwd"
      },
      "source": [
        ""
      ],
      "execution_count": null,
      "outputs": []
    },
    {
      "cell_type": "code",
      "metadata": {
        "id": "itKGfof5evDu"
      },
      "source": [
        ""
      ],
      "execution_count": null,
      "outputs": []
    },
    {
      "cell_type": "code",
      "metadata": {
        "id": "I_eDpIqievM5"
      },
      "source": [
        ""
      ],
      "execution_count": null,
      "outputs": []
    },
    {
      "cell_type": "code",
      "metadata": {
        "id": "YpsMpD6Reumj"
      },
      "source": [
        ""
      ],
      "execution_count": null,
      "outputs": []
    },
    {
      "cell_type": "code",
      "metadata": {
        "id": "FLszEhB_bF-z"
      },
      "source": [
        ""
      ],
      "execution_count": null,
      "outputs": []
    }
  ]
}