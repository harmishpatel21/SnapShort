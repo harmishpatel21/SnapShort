{
 "cells": [
  {
   "cell_type": "code",
   "execution_count": 1,
   "metadata": {
    "scrolled": true
   },
   "outputs": [],
   "source": [
    "import nlp\n",
    "import pandas as pd\n",
    "from fastai.text.all import *\n",
    "from transformers import *\n",
    "\n",
    "from blurr.data.all import *\n",
    "from blurr.modeling.all import *"
   ]
  },
  {
   "cell_type": "code",
   "execution_count": 2,
   "metadata": {
    "scrolled": true
   },
   "outputs": [
    {
     "data": {
      "text/html": [
       "<div>\n",
       "<style scoped>\n",
       "    .dataframe tbody tr th:only-of-type {\n",
       "        vertical-align: middle;\n",
       "    }\n",
       "\n",
       "    .dataframe tbody tr th {\n",
       "        vertical-align: top;\n",
       "    }\n",
       "\n",
       "    .dataframe thead th {\n",
       "        text-align: right;\n",
       "    }\n",
       "</style>\n",
       "<table border=\"1\" class=\"dataframe\">\n",
       "  <thead>\n",
       "    <tr style=\"text-align: right;\">\n",
       "      <th></th>\n",
       "      <th>article</th>\n",
       "      <th>highlights</th>\n",
       "      <th>id</th>\n",
       "    </tr>\n",
       "  </thead>\n",
       "  <tbody>\n",
       "    <tr>\n",
       "      <th>0</th>\n",
       "      <td>It's official: U.S. President Barack Obama wants lawmakers to weigh in on whether to use military force in Syria. Obama sent a letter to the heads of the House and Senate on Saturday night, hours after announcing that he believes military action against Syrian targets is the right step to take over the alleged use of chemical weapons. The proposed legislation from Obama asks Congress to approve the use of military force \"to deter, disrupt, prevent and degrade the potential for future uses of chemical weapons or other weapons of mass destruction.\" It's a step that is set to turn an internat...</td>\n",
       "      <td>Syrian official: Obama climbed to the top of the tree, \"doesn't know how to get down\"\\nObama sends a letter to the heads of the House and Senate .\\nObama to seek congressional approval on military action against Syria .\\nAim is to determine whether CW were used, not by whom, says U.N. spokesman .</td>\n",
       "      <td>0001d1afc246a7964130f43ae940af6bc6c57f01</td>\n",
       "    </tr>\n",
       "    <tr>\n",
       "      <th>1</th>\n",
       "      <td>(CNN) -- Usain Bolt rounded off the world championships Sunday by claiming his third gold in Moscow as he anchored Jamaica to victory in the men's 4x100m relay. The fastest man in the world charged clear of United States rival Justin Gatlin as the Jamaican quartet of Nesta Carter, Kemar Bailey-Cole, Nickel Ashmeade and Bolt won in 37.36 seconds. The U.S finished second in 37.56 seconds with Canada taking the bronze after Britain were disqualified for a faulty handover. The 26-year-old Bolt has now collected eight gold medals at world championships, equaling the record held by American trio...</td>\n",
       "      <td>Usain Bolt wins third gold of world championship .\\nAnchors Jamaica to 4x100m relay victory .\\nEighth gold at the championships for Bolt .\\nJamaica double up in women's 4x100m relay .</td>\n",
       "      <td>0002095e55fcbd3a2f366d9bf92a95433dc305ef</td>\n",
       "    </tr>\n",
       "    <tr>\n",
       "      <th>2</th>\n",
       "      <td>Kansas City, Missouri (CNN) -- The General Services Administration, already under investigation for lavish spending, allowed an employee to telecommute from Hawaii even though he is based at the GSA's Kansas City, Missouri, office, a CNN investigation has found. It cost more than $24,000 for the business development specialist to travel to and from the mainland United States over the past year. He is among several hundred GSA \"virtual\" workers who also travel to various conferences and their home offices, costing the agency millions of dollars over the past three years. Under the program, ...</td>\n",
       "      <td>The employee in agency's Kansas City office is among hundreds of \"virtual\" workers .\\nThe employee's travel to and from the mainland U.S. last year cost more than $24,000 .\\nThe telecommuting program, like all GSA practices, is under review .</td>\n",
       "      <td>00027e965c8264c35cc1bc55556db388da82b07f</td>\n",
       "    </tr>\n",
       "    <tr>\n",
       "      <th>3</th>\n",
       "      <td>Los Angeles (CNN) -- A medical doctor in Vancouver, British Columbia, said Thursday that California arson suspect Harry Burkhart suffered from severe mental illness in 2010, when she examined him as part of a team of doctors. Dr. Blaga Stancheva, a family physician and specialist in obstetrics, said both Burkhart and his mother, Dorothee, were her patients in Vancouver while both were applying for refugee status in Canada. \"I was asked to diagnose and treat Harry to support a claim explaining why he was unable to show up in a small-claims court case,\" Stancheva told CNN in a phone intervie...</td>\n",
       "      <td>NEW: A Canadian doctor says she was part of a team examining Harry Burkhart in 2010 .\\nNEW: Diagnosis: \"autism, severe anxiety, post-traumatic stress disorder and depression\"\\nBurkhart is also suspected in a German arson probe, officials say .\\nProsecutors believe the German national set a string of fires in Los Angeles .</td>\n",
       "      <td>0002c17436637c4fe1837c935c04de47adb18e9a</td>\n",
       "    </tr>\n",
       "    <tr>\n",
       "      <th>4</th>\n",
       "      <td>(CNN) -- Police arrested another teen Thursday, the sixth suspect jailed in connection with the gang rape of a 15-year-old girl on a northern California high school campus. Jose Carlos Montano, 18, was arrested on charges of felony rape, rape in concert with force, and penetration with a foreign object, said Richmond Police Lt. Mark Gagan. Montano was arrested Thursday evening in San Pablo, California, a small town about two miles from the city of Richmond, where the crime took place. Montano, who was held in lieu of $1.3 million bail, is accused of taking part in what police said was a 2½...</td>\n",
       "      <td>Another arrest made in gang rape outside California school .\\nInvestigators say up to 20 people took part or stood and watched the assault .\\nFour suspects appeared in court Thursday; three wore bulletproof vests .</td>\n",
       "      <td>0003ad6ef0c37534f80b55b4235108024b407f0b</td>\n",
       "    </tr>\n",
       "  </tbody>\n",
       "</table>\n",
       "</div>"
      ],
      "text/plain": [
       "                                                                                                                                                                                                                                                                                                                                                                                                                                                                                                                                                                                                                   article  \\\n",
       "0  It's official: U.S. President Barack Obama wants lawmakers to weigh in on whether to use military force in Syria. Obama sent a letter to the heads of the House and Senate on Saturday night, hours after announcing that he believes military action against Syrian targets is the right step to take over the alleged use of chemical weapons. The proposed legislation from Obama asks Congress to approve the use of military force \"to deter, disrupt, prevent and degrade the potential for future uses of chemical weapons or other weapons of mass destruction.\" It's a step that is set to turn an internat...   \n",
       "1  (CNN) -- Usain Bolt rounded off the world championships Sunday by claiming his third gold in Moscow as he anchored Jamaica to victory in the men's 4x100m relay. The fastest man in the world charged clear of United States rival Justin Gatlin as the Jamaican quartet of Nesta Carter, Kemar Bailey-Cole, Nickel Ashmeade and Bolt won in 37.36 seconds. The U.S finished second in 37.56 seconds with Canada taking the bronze after Britain were disqualified for a faulty handover. The 26-year-old Bolt has now collected eight gold medals at world championships, equaling the record held by American trio...   \n",
       "2  Kansas City, Missouri (CNN) -- The General Services Administration, already under investigation for lavish spending, allowed an employee to telecommute from Hawaii even though he is based at the GSA's Kansas City, Missouri, office, a CNN investigation has found. It cost more than $24,000 for the business development specialist to travel to and from the mainland United States over the past year. He is among several hundred GSA \"virtual\" workers who also travel to various conferences and their home offices, costing the agency millions of dollars over the past three years. Under the program, ...   \n",
       "3  Los Angeles (CNN) -- A medical doctor in Vancouver, British Columbia, said Thursday that California arson suspect Harry Burkhart suffered from severe mental illness in 2010, when she examined him as part of a team of doctors. Dr. Blaga Stancheva, a family physician and specialist in obstetrics, said both Burkhart and his mother, Dorothee, were her patients in Vancouver while both were applying for refugee status in Canada. \"I was asked to diagnose and treat Harry to support a claim explaining why he was unable to show up in a small-claims court case,\" Stancheva told CNN in a phone intervie...   \n",
       "4  (CNN) -- Police arrested another teen Thursday, the sixth suspect jailed in connection with the gang rape of a 15-year-old girl on a northern California high school campus. Jose Carlos Montano, 18, was arrested on charges of felony rape, rape in concert with force, and penetration with a foreign object, said Richmond Police Lt. Mark Gagan. Montano was arrested Thursday evening in San Pablo, California, a small town about two miles from the city of Richmond, where the crime took place. Montano, who was held in lieu of $1.3 million bail, is accused of taking part in what police said was a 2½...   \n",
       "\n",
       "                                                                                                                                                                                                                                                                                                                            highlights  \\\n",
       "0                            Syrian official: Obama climbed to the top of the tree, \"doesn't know how to get down\"\\nObama sends a letter to the heads of the House and Senate .\\nObama to seek congressional approval on military action against Syria .\\nAim is to determine whether CW were used, not by whom, says U.N. spokesman .   \n",
       "1                                                                                                                                              Usain Bolt wins third gold of world championship .\\nAnchors Jamaica to 4x100m relay victory .\\nEighth gold at the championships for Bolt .\\nJamaica double up in women's 4x100m relay .   \n",
       "2                                                                                   The employee in agency's Kansas City office is among hundreds of \"virtual\" workers .\\nThe employee's travel to and from the mainland U.S. last year cost more than $24,000 .\\nThe telecommuting program, like all GSA practices, is under review .   \n",
       "3  NEW: A Canadian doctor says she was part of a team examining Harry Burkhart in 2010 .\\nNEW: Diagnosis: \"autism, severe anxiety, post-traumatic stress disorder and depression\"\\nBurkhart is also suspected in a German arson probe, officials say .\\nProsecutors believe the German national set a string of fires in Los Angeles .   \n",
       "4                                                                                                               Another arrest made in gang rape outside California school .\\nInvestigators say up to 20 people took part or stood and watched the assault .\\nFour suspects appeared in court Thursday; three wore bulletproof vests .   \n",
       "\n",
       "                                         id  \n",
       "0  0001d1afc246a7964130f43ae940af6bc6c57f01  \n",
       "1  0002095e55fcbd3a2f366d9bf92a95433dc305ef  \n",
       "2  00027e965c8264c35cc1bc55556db388da82b07f  \n",
       "3  0002c17436637c4fe1837c935c04de47adb18e9a  \n",
       "4  0003ad6ef0c37534f80b55b4235108024b407f0b  "
      ]
     },
     "execution_count": 2,
     "metadata": {},
     "output_type": "execute_result"
    }
   ],
   "source": [
    "# train_path = \"D:/project/dataset/patent/b/data000000000001.json\"\n",
    "\n",
    "# df = pd.read_json(train_path,lines=True)\n",
    "\n",
    "# df = df.rename(columns={\"description\": \"input_text\", \"abstract\": \"target_text\"})\n",
    "# df = df.dropna()\n",
    "# df.head()\n",
    "raw_data = nlp.load_dataset('cnn_dailymail', '3.0.0', split='train[:1%]')\n",
    "df = pd.DataFrame(raw_data)\n",
    "df.head()"
   ]
  },
  {
   "cell_type": "code",
   "execution_count": 3,
   "metadata": {},
   "outputs": [
    {
     "data": {
      "text/plain": [
       "('bart',\n",
       " transformers.configuration_bart.BartConfig,\n",
       " transformers.tokenization_bart.BartTokenizer,\n",
       " transformers.modeling_bart.BartForConditionalGeneration)"
      ]
     },
     "execution_count": 3,
     "metadata": {},
     "output_type": "execute_result"
    }
   ],
   "source": [
    "pretrained_model_name = \"facebook/bart-base\"\n",
    "hf_arch, hf_config, hf_tokenizer, hf_model = BLURR_MODEL_HELPER.get_hf_objects(pretrained_model_name, \n",
    "                                                                               model_cls=BartForConditionalGeneration)\n",
    "\n",
    "hf_arch, type(hf_config), type(hf_tokenizer), type(hf_model)"
   ]
  },
  {
   "cell_type": "code",
   "execution_count": 4,
   "metadata": {},
   "outputs": [],
   "source": [
    "hf_batch_tfm = HF_SummarizationBatchTransform(hf_arch, hf_tokenizer, max_length=[256, 130])\n",
    "\n",
    "blocks = (HF_TextBlock(hf_batch_tfm=hf_batch_tfm), noop)\n",
    "\n",
    "dblock = DataBlock(blocks=blocks, \n",
    "                   get_x=ColReader('article'), \n",
    "                   get_y=ColReader('highlights'), \n",
    "                   splitter=RandomSplitter())"
   ]
  },
  {
   "cell_type": "code",
   "execution_count": 12,
   "metadata": {},
   "outputs": [],
   "source": [
    "dls = dblock.dataloaders(df, bs=2,num_workers=0)"
   ]
  },
  {
   "cell_type": "code",
   "execution_count": 13,
   "metadata": {},
   "outputs": [
    {
     "data": {
      "text/plain": [
       "(2297, 574)"
      ]
     },
     "execution_count": 13,
     "metadata": {},
     "output_type": "execute_result"
    }
   ],
   "source": [
    "len(dls.train.items), len(dls.valid.items)"
   ]
  },
  {
   "cell_type": "code",
   "execution_count": 14,
   "metadata": {},
   "outputs": [
    {
     "data": {
      "text/plain": [
       "(2, torch.Size([2, 256]), torch.Size([2, 68]))"
      ]
     },
     "execution_count": 14,
     "metadata": {},
     "output_type": "execute_result"
    }
   ],
   "source": [
    "b = dls.one_batch()\n",
    "len(b), b[0]['input_ids'].shape, b[1].shape"
   ]
  },
  {
   "cell_type": "code",
   "execution_count": 15,
   "metadata": {
    "scrolled": true
   },
   "outputs": [
    {
     "data": {
      "text/html": [
       "<table border=\"1\" class=\"dataframe\">\n",
       "  <thead>\n",
       "    <tr style=\"text-align: right;\">\n",
       "      <th></th>\n",
       "      <th>text</th>\n",
       "      <th>target</th>\n",
       "    </tr>\n",
       "  </thead>\n",
       "  <tbody>\n",
       "    <tr>\n",
       "      <th>0</th>\n",
       "      <td>The news from Pakistan is generally bad news. In the past week, which was far from atypical, suicide bombers attacked a court building in the northwestern city of Peshawar taking hostages and killing four people. In the southern city of Karachi the director of a renowned social program working in the megacity's poorest neighborhoods was shot and killed. And gunmen kidnapped two female Czech tourists in southwestern Pakistan. But this past week also saw more than a glimmer of good news from Pakistan: Saturday, March 16 marked an extraordinary moment in Pakistani history, as this is the first time  a civilian government has served its entire five-year term (from 2008 to 2013). And, for the first time in its history, the Pakistani military appears unwilling to mount a coup against the civilian government. The military has successfully executed three coups and attempted a number of others since Pakistan's independence in 1947. Today the army understands that the most recent coup by General Pervez Musharraf who took power in 1999 has tarnished its brand. Musharraf hung on to power for almost a decade and his imposition of emergency rule in 2007 triggered massive street protests and eventually his ouster. On Saturday, Musharaf announced he is returning to Pakistan from self-imposed exile on March 24 to</td>\n",
       "      <td>Peter Bergen: For the first time, Pakistan government served its full term.\\nHe says lack of military coup attempt shows government is more stable than many think.\\nElections in Pakistan, Afghanistan likely to be crucial for those two nations.\\nBergen: He says Afghan economy is resilient and corruption may be receding.</td>\n",
       "    </tr>\n",
       "    <tr>\n",
       "      <th>1</th>\n",
       "      <td>(CNN) -- The generation of gays and lesbians that literally created the modern LGBT movement -- from the heroes of the 1969 Stonewall riots to their slightly younger friends -- is at, or nearing, retirement age. That used to mean the beginning of an extremely difficult time in an LGBT person's life. But as gay baby boomers find more acceptance in mainstream society and continue to do what they've always done -- push to make a better world for the LGBT community -- their retirement options are slowly improving. That is, if they decide to retire at all. \"The notion of retirement has never been a part of my vocabulary,\" said Bob Witeck, CEO and co-founder of Witeck Communications. Nearly 61, Witeck has put some thought into what he should do with his strategic public relations and marketing firm as he gets older. Like many friends his age who are also entrepreneurs, he plans to keep working. \"Because I run a business, as I get older I can change the intensity of my engagement in the kinds of work I take on,\" Witeck said. \"I know I'm lucky that way, and I'm lucky in my personal life as well. My husband is 50, so I have a younger man to help me</td>\n",
       "      <td>LGBT baby boomers changed the visibility of the gay community.\\nAs they approach retirement, they face different obstacles than their straight counterparts.\\nWithout marriage equality, same-sex couples may face financial hardships.\\nAdvocates say the situation is slowly improving.</td>\n",
       "    </tr>\n",
       "  </tbody>\n",
       "</table>"
      ],
      "text/plain": [
       "<IPython.core.display.HTML object>"
      ]
     },
     "metadata": {},
     "output_type": "display_data"
    }
   ],
   "source": [
    "dls.show_batch(dataloaders=dls, max_n=2)"
   ]
  },
  {
   "cell_type": "code",
   "execution_count": 16,
   "metadata": {},
   "outputs": [
    {
     "data": {
      "text/plain": [
       "{'length_penalty': 1.0, 'max_length': 130, 'min_length': 30, 'num_beams': 4}"
      ]
     },
     "execution_count": 16,
     "metadata": {},
     "output_type": "execute_result"
    }
   ],
   "source": [
    "text_gen_kwargs = { **hf_config.task_specific_params['summarization'], **{'max_length': 130, 'min_length': 30} }\n",
    "text_gen_kwargs"
   ]
  },
  {
   "cell_type": "code",
   "execution_count": 17,
   "metadata": {},
   "outputs": [],
   "source": [
    "model = HF_BaseModelWrapper(hf_model)\n",
    "model_cb = HF_SummarizationModelCallback(text_gen_kwargs=text_gen_kwargs)\n",
    "\n",
    "learn = Learner(dls, \n",
    "                model,\n",
    "                opt_func=ranger,\n",
    "                loss_func=HF_MaskedLMLoss(),\n",
    "                cbs=[model_cb],\n",
    "                splitter=partial(summarization_splitter, arch=hf_arch))#.to_fp16()\n",
    "\n",
    "learn.create_opt() \n",
    "learn.freeze()"
   ]
  },
  {
   "cell_type": "code",
   "execution_count": 18,
   "metadata": {},
   "outputs": [
    {
     "data": {
      "text/html": [],
      "text/plain": [
       "<IPython.core.display.HTML object>"
      ]
     },
     "metadata": {},
     "output_type": "display_data"
    },
    {
     "data": {
      "text/plain": [
       "SuggestedLRs(lr_min=0.00043651582673192023, lr_steep=6.309573450380412e-07)"
      ]
     },
     "execution_count": 18,
     "metadata": {},
     "output_type": "execute_result"
    },
    {
     "data": {
      "image/png": "[encoded data removed]",
      "text/plain": [
       "<Figure size 432x288 with 1 Axes>"
      ]
     },
     "metadata": {
      "needs_background": "light"
     },
     "output_type": "display_data"
    }
   ],
   "source": [
    "learn.lr_find(suggestions=True)\n"
   ]
  },
  {
   "cell_type": "code",
   "execution_count": 19,
   "metadata": {},
   "outputs": [
    {
     "name": "stdout",
     "output_type": "stream",
     "text": [
      "({'input_ids': tensor([[    0,    20,   340,    31,  1752,    16,  3489,  1099,   340,     4,\n",
      "            96,     5,   375,   186,     6,    61,    21,   444,    31,    23,\n",
      "         18198,  3569,     6,  4260, 20824,  4487,    10,   461,   745,    11,\n",
      "             5, 22402,   343,     9, 24307, 20373,   602, 26445,     8,  2429,\n",
      "           237,    82,     4,    96,     5,  3174,   343,     9, 15043,     5,\n",
      "           736,     9,    10, 12086,   592,   586,   447,    11,     5, 10721,\n",
      "         18583,    18, 19125,  9100,    21,   738,     8,   848,     4,   178,\n",
      "         18282, 15762,    80,  2182,  9096,  6349,    11, 20431,  1752,     4,\n",
      "           125,    42,   375,   186,    67,   794,    55,    87,    10,  5921,\n",
      "         15912,     9,   205,   340,    31,  1752,    35,   378,     6,   494,\n",
      "           545,  4760,    41,  7116,  1151,    11,  9246,   750,     6,    25,\n",
      "            42,    16,     5,    78,    86,  1437,    10,  8233,   168,    34,\n",
      "          1665,    63,  1445,   292,    12,   180,  1385,    36,  7761,  2266,\n",
      "             7,  1014,   322,   178,     6,    13,     5,    78,    86,    11,\n",
      "            63,   750,     6,     5,  9246,   831,  2092, 20656,     7, 14206,\n",
      "            10,  9334,   136,     5,  8233,   168,     4,    20,   831,    34,\n",
      "          5116,  9390,   130, 15763,  3275,     8,  3751,    10,   346,     9,\n",
      "           643,   187,  1752,    18,  5201,    11, 21868,     4,  2477,     5,\n",
      "          3835,  8832,    14,     5,   144,   485,  9334,    30,  1292,  2595,\n",
      "         20782, 21804,   271, 13883,    54,   362,   476,    11,  6193,    34,\n",
      "         25584,  6555,    63,  1518,     4, 21804,   271, 13883, 10601,    15,\n",
      "             7,   476,    13,   818,    10,  2202,     8,    39, 28575,     9,\n",
      "          1923,  2178,    11,  3010,  7544,  2232,  2014,  3246,     8,  2140,\n",
      "            39,  1021, 10504,     4,   374,   378,     6, 21804,   271,  2001,\n",
      "           585,    37,    16,  3357,     7,  1752,    31,  1403,    12, 24039,\n",
      "         21323,    15,   494,   706,     7,     2],\n",
      "        [    0,    36, 16256,    43,   480,    83, 22040,     9,  4847,  9272,\n",
      "           148,  1475,    12, 23310,  1414,    11, 18207,   480,   217,    80,\n",
      "            11,    61,   121,     4,   104,     4,  3525,   848,  4089,   480,\n",
      "            16,  3307,     7,    41,  4353,    92,  1860,     7, 12414,    10,\n",
      "          6813, 14106,    13, 24480,     4, 13346,   660, 16756,     6,    25,\n",
      "             5, 17043,  2511,    16,   684,     6, 31381,    31,   375,  1170,\n",
      "           142,     9,    63, 14197,    15,   831,    66, 30927,   593,     7,\n",
      "             5,   760,  2301,     7,   694,  2119,  8823,     4,    85,    16,\n",
      "            10,  1860, 20455,     9,  3231,  1344,  7150,  6761,  8893,   341,\n",
      "            30,     5,   121,     4,   104,     4,   831,    15, 20707,    29,\n",
      "            11,  3345,     8,  4035,     4,    96,    10,    80,    12,  2151,\n",
      "          8968,     6,   411,    82,    33,    57,   848,    11,     5,  2513,\n",
      "             6,   217,  3544,   237,  7850,  6321,     4,  2285,     5,  4456,\n",
      "          9272,     6,   470,     8, 31200, 25230,   503,   224,    51,   258,\n",
      "            32,  1372,    19,    49,  4918,     8,  1701, 13346,   660, 16756,\n",
      "           480,  1660,    11,   587,   480,    10,  1282,     4,   287,     9,\n",
      "           307,     6,  1247,    26,     6,    51,    56,  3222,   417, 19799,\n",
      "           292,  8449,     6,  5942,    59,   132,     6,  2965, 12868,   366,\n",
      "             9,  9890,     6,     8,   156,   707,  7102,     4, 32576,     6,\n",
      "           217,   831,  2080, 17509,     6,    33,    67,    57,  5942,     4,\n",
      "            22,   133,  1280,     9,  2196,  5942,     8,     5, 10044,     9,\n",
      "         38371,  1242,   763,  3145, 10176,  7145,  1994,    13,  1235,    60,\n",
      "            26, 15580,  3513,   261,  7816,   726,  7742,  1001,     6,     5,\n",
      "         31200, 25230,  6499,     7,     5,   315,   532,     4,  2276,     6,\n",
      "          4853,    11, 18207,     8,     5,   315,   532,  9449,     5,   488,\n",
      "          2251,  1860,     8,   864,   596,     2]], device='cuda:0'), 'attention_mask': tensor([[1, 1, 1, 1, 1, 1, 1, 1, 1, 1, 1, 1, 1, 1, 1, 1, 1, 1, 1, 1, 1, 1, 1, 1,\n",
      "         1, 1, 1, 1, 1, 1, 1, 1, 1, 1, 1, 1, 1, 1, 1, 1, 1, 1, 1, 1, 1, 1, 1, 1,\n",
      "         1, 1, 1, 1, 1, 1, 1, 1, 1, 1, 1, 1, 1, 1, 1, 1, 1, 1, 1, 1, 1, 1, 1, 1,\n",
      "         1, 1, 1, 1, 1, 1, 1, 1, 1, 1, 1, 1, 1, 1, 1, 1, 1, 1, 1, 1, 1, 1, 1, 1,\n",
      "         1, 1, 1, 1, 1, 1, 1, 1, 1, 1, 1, 1, 1, 1, 1, 1, 1, 1, 1, 1, 1, 1, 1, 1,\n",
      "         1, 1, 1, 1, 1, 1, 1, 1, 1, 1, 1, 1, 1, 1, 1, 1, 1, 1, 1, 1, 1, 1, 1, 1,\n",
      "         1, 1, 1, 1, 1, 1, 1, 1, 1, 1, 1, 1, 1, 1, 1, 1, 1, 1, 1, 1, 1, 1, 1, 1,\n",
      "         1, 1, 1, 1, 1, 1, 1, 1, 1, 1, 1, 1, 1, 1, 1, 1, 1, 1, 1, 1, 1, 1, 1, 1,\n",
      "         1, 1, 1, 1, 1, 1, 1, 1, 1, 1, 1, 1, 1, 1, 1, 1, 1, 1, 1, 1, 1, 1, 1, 1,\n",
      "         1, 1, 1, 1, 1, 1, 1, 1, 1, 1, 1, 1, 1, 1, 1, 1, 1, 1, 1, 1, 1, 1, 1, 1,\n",
      "         1, 1, 1, 1, 1, 1, 1, 1, 1, 1, 1, 1, 1, 1, 1, 1],\n",
      "        [1, 1, 1, 1, 1, 1, 1, 1, 1, 1, 1, 1, 1, 1, 1, 1, 1, 1, 1, 1, 1, 1, 1, 1,\n",
      "         1, 1, 1, 1, 1, 1, 1, 1, 1, 1, 1, 1, 1, 1, 1, 1, 1, 1, 1, 1, 1, 1, 1, 1,\n",
      "         1, 1, 1, 1, 1, 1, 1, 1, 1, 1, 1, 1, 1, 1, 1, 1, 1, 1, 1, 1, 1, 1, 1, 1,\n",
      "         1, 1, 1, 1, 1, 1, 1, 1, 1, 1, 1, 1, 1, 1, 1, 1, 1, 1, 1, 1, 1, 1, 1, 1,\n",
      "         1, 1, 1, 1, 1, 1, 1, 1, 1, 1, 1, 1, 1, 1, 1, 1, 1, 1, 1, 1, 1, 1, 1, 1,\n",
      "         1, 1, 1, 1, 1, 1, 1, 1, 1, 1, 1, 1, 1, 1, 1, 1, 1, 1, 1, 1, 1, 1, 1, 1,\n",
      "         1, 1, 1, 1, 1, 1, 1, 1, 1, 1, 1, 1, 1, 1, 1, 1, 1, 1, 1, 1, 1, 1, 1, 1,\n",
      "         1, 1, 1, 1, 1, 1, 1, 1, 1, 1, 1, 1, 1, 1, 1, 1, 1, 1, 1, 1, 1, 1, 1, 1,\n",
      "         1, 1, 1, 1, 1, 1, 1, 1, 1, 1, 1, 1, 1, 1, 1, 1, 1, 1, 1, 1, 1, 1, 1, 1,\n",
      "         1, 1, 1, 1, 1, 1, 1, 1, 1, 1, 1, 1, 1, 1, 1, 1, 1, 1, 1, 1, 1, 1, 1, 1,\n",
      "         1, 1, 1, 1, 1, 1, 1, 1, 1, 1, 1, 1, 1, 1, 1, 1]], device='cuda:0'), 'decoder_input_ids': tensor([[    0,  2155,  4323,  4138,    35,   286,     5,    78,    86,     6,\n",
      "          1752,   168,  1665,    63,   455,  1385,   479, 50118,   894,   161,\n",
      "          1762,     9,   831,  9334,  2120,   924,   168,    16,    55,  4375,\n",
      "            87,   171,   206,   479, 50118, 31824,  2485,    11,  1752,     6,\n",
      "          4035,   533,     7,    28,  4096,    13,   167,    80,  3949,   479,\n",
      "         50118, 26795,  4138,    35,    91,   161,  7649,   866,    16, 15194,\n",
      "             8,  3198,   189,    28,  3872, 13118,   479],\n",
      "        [    0,  5310,    82,    33,    57,   848,    11,   130,  4495,    81,\n",
      "             5,   375,    80,   377,    11, 18207,   479, 50118,   133,  4495,\n",
      "          1102,   148,     5,   768,     9, 13346,   660, 16756,     6,    10,\n",
      "          2660, 31200, 25230,    12,   791,     4,   104,     4,  1351,   479,\n",
      "         50118, 16991,   749,  1701,    24,    10,  1800,   586,   136, 24480,\n",
      "           479, 50118, 47312,  5044,  1506,    99,    51,   486,     5, 25585,\n",
      "          1938,     9,     5,  1262,   997,   479,     2]], device='cuda:0'), 'labels': tensor([[ 2155,  4323,  4138,    35,   286,     5,    78,    86,     6,  1752,\n",
      "           168,  1665,    63,   455,  1385,   479, 50118,   894,   161,  1762,\n",
      "             9,   831,  9334,  2120,   924,   168,    16,    55,  4375,    87,\n",
      "           171,   206,   479, 50118, 31824,  2485,    11,  1752,     6,  4035,\n",
      "           533,     7,    28,  4096,    13,   167,    80,  3949,   479, 50118,\n",
      "         26795,  4138,    35,    91,   161,  7649,   866,    16, 15194,     8,\n",
      "          3198,   189,    28,  3872, 13118,   479,     2],\n",
      "        [ 5310,    82,    33,    57,   848,    11,   130,  4495,    81,     5,\n",
      "           375,    80,   377,    11, 18207,   479, 50118,   133,  4495,  1102,\n",
      "           148,     5,   768,     9, 13346,   660, 16756,     6,    10,  2660,\n",
      "         31200, 25230,    12,   791,     4,   104,     4,  1351,   479, 50118,\n",
      "         16991,   749,  1701,    24,    10,  1800,   586,   136, 24480,   479,\n",
      "         50118, 47312,  5044,  1506,    99,    51,   486,     5, 25585,  1938,\n",
      "             9,     5,  1262,   997,   479,     2,  -100]], device='cuda:0')}, tensor([[    0,  2155,  4323,  4138,    35,   286,     5,    78,    86,     6,\n",
      "          1752,   168,  1665,    63,   455,  1385,   479, 50118,   894,   161,\n",
      "          1762,     9,   831,  9334,  2120,   924,   168,    16,    55,  4375,\n",
      "            87,   171,   206,   479, 50118, 31824,  2485,    11,  1752,     6,\n",
      "          4035,   533,     7,    28,  4096,    13,   167,    80,  3949,   479,\n",
      "         50118, 26795,  4138,    35,    91,   161,  7649,   866,    16, 15194,\n",
      "             8,  3198,   189,    28,  3872, 13118,   479,     2],\n",
      "        [    0,  5310,    82,    33,    57,   848,    11,   130,  4495,    81,\n",
      "             5,   375,    80,   377,    11, 18207,   479, 50118,   133,  4495,\n",
      "          1102,   148,     5,   768,     9, 13346,   660, 16756,     6,    10,\n",
      "          2660, 31200, 25230,    12,   791,     4,   104,     4,  1351,   479,\n",
      "         50118, 16991,   749,  1701,    24,    10,  1800,   586,   136, 24480,\n",
      "           479, 50118, 47312,  5044,  1506,    99,    51,   486,     5, 25585,\n",
      "          1938,     9,     5,  1262,   997,   479,     2,     1]],\n",
      "       device='cuda:0'))\n"
     ]
    },
    {
     "data": {
      "text/plain": [
       "(3,\n",
       " tensor(5.4538, device='cuda:0', grad_fn=<NllLossBackward>),\n",
       " torch.Size([2, 67, 50265]))"
      ]
     },
     "execution_count": 19,
     "metadata": {},
     "output_type": "execute_result"
    }
   ],
   "source": [
    "b = dls.one_batch()\n",
    "print(b)\n",
    "preds = learn.model(b[0])\n",
    "len(preds),preds[0], preds[1].shape"
   ]
  },
  {
   "cell_type": "code",
   "execution_count": 20,
   "metadata": {},
   "outputs": [
    {
     "data": {
      "text/html": [
       "<table border=\"1\" class=\"dataframe\">\n",
       "  <thead>\n",
       "    <tr style=\"text-align: left;\">\n",
       "      <th>epoch</th>\n",
       "      <th>train_loss</th>\n",
       "      <th>valid_loss</th>\n",
       "      <th>rouge1</th>\n",
       "      <th>rouge2</th>\n",
       "      <th>rougeL</th>\n",
       "      <th>time</th>\n",
       "    </tr>\n",
       "  </thead>\n",
       "  <tbody>\n",
       "    <tr>\n",
       "      <td>0</td>\n",
       "      <td>2.967004</td>\n",
       "      <td>2.646416</td>\n",
       "      <td>0.334397</td>\n",
       "      <td>0.119666</td>\n",
       "      <td>0.223722</td>\n",
       "      <td>10:37</td>\n",
       "    </tr>\n",
       "  </tbody>\n",
       "</table>"
      ],
      "text/plain": [
       "<IPython.core.display.HTML object>"
      ]
     },
     "metadata": {},
     "output_type": "display_data"
    }
   ],
   "source": [
    "learn.fit_one_cycle(1, lr_max=3e-5)"
   ]
  },
  {
   "cell_type": "code",
   "execution_count": 21,
   "metadata": {},
   "outputs": [
    {
     "data": {
      "text/html": [],
      "text/plain": [
       "<IPython.core.display.HTML object>"
      ]
     },
     "metadata": {},
     "output_type": "display_data"
    },
    {
     "data": {
      "text/html": [
       "<table border=\"1\" class=\"dataframe\">\n",
       "  <thead>\n",
       "    <tr style=\"text-align: right;\">\n",
       "      <th></th>\n",
       "      <th>text</th>\n",
       "      <th>target</th>\n",
       "      <th>prediction</th>\n",
       "    </tr>\n",
       "  </thead>\n",
       "  <tbody>\n",
       "    <tr>\n",
       "      <th>0</th>\n",
       "      <td>Washington (CNN) -- New details emerged of what the White House knew about the Internal Revenue Service targeting of conservative groups, with spokesman Jay Carney disclosing Chief of Staff Denis McDonough was among the top officials made aware of the matter late last month. In a new timeline provided by Carney to reporters on Monday, General Counsel Kathryn Ruemmler learned on April 24 of a pending Treasury inspector general's report on how IRS staff used criteria targeting conservative groups in assessing eligibility for tax-exempt status. According to Carney, Ruemmler told McDonough as well as other Treasury officials about the pending report. It was the first time the White House acknowledged that McDonough was aware of the report before it became public in early May. IRS: By the numbers. In addition, Carney made clear that the information Ruemmler received on April 24 included details of improper acts by IRS officials. At the same time, Carney emphasized that the information was preliminary and could have changed before the inspector general released his final report on May 14. Carney insisted no one -- including Ruemmler and McDonough -- told President Barack Obama anything about the inspector general's pending report before media reports about it began appearing on May 10. \"We knew the subject of the investigation</td>\n",
       "      <td>A Senate committee holds a hearing Tuesday on the IRS targeting.\\nWhite House discloses new details of what it knew about the IRS targeting report.\\nWhite House spokesman says President Obama wasn't told of the pending report.\\nNEW: First lawsuit filed over IRS targeting.</td>\n",
       "      <td>NEW: Carney says White House knew about IRS targeting of conservative groups .\\nCarney: \"We knew the subject of the report before it became public\"The White House says the inspector general's report was preliminary and could have changed before it released his final report on May 14 .</td>\n",
       "    </tr>\n",
       "    <tr>\n",
       "      <th>1</th>\n",
       "      <td>NEW YORK (CNN) -- Richard Serra stands in the Museum of Modern Art's Abby Aldrich Rockefeller Sculpture Garden, his hair as white as the marble floor. The summer sun of New York radiates from the towering metal of his monumental works. He breaks no sweat. He likes how the weeping beeches and birches have leafed out since April when two of his enormous steel sculptures were installed. A crane lifted the tonnage over the garden wall from West 54th Street. This new foliage, he notes, shades his works' rising, rusting arcs with an air of mystery. \"You can't see 'Ellipse' from 'Intersection.' So as you walk out of one, you're not thinking about the other.\" What you're thinking about may be their size. \"Intersection II\" is more than 13 feet tall and 51 feet long. \"Torqued Ellipse IV\" at one point is 32 feet across. Made to be entered, explored, felt in terms of how they divide and define space around you, these gentle, giant landmarks of a 40-year career place Serra today at the very heart of the Museum of Modern Art's mission and capabilities.  Watch videos in which Serra</td>\n",
       "      <td>'Richard Serra Sculpture: Forty Years' runs to September 10 at MoMA.\\nMore than 800 tons of monumental steel and free-standing lead constructions.\\nMoMA's Abby Aldrich Rockefeller Sculpture Garden one of three venues.\\nCranes required to hoist steel sections over garden wall and into galleries.</td>\n",
       "      <td>The Serra stands in the Museum of Modern Art's Abby Aldrich Rockefeller Sculpture Garden, his hair as white as the marble floor. The summer sun of New York radiates from the towering metal of his monumental works. He breaks no sweat. He likes how the weeping beeches and birches have leafed out since April when two of his enormous steel sculptures were installed. A crane lifted the tonnage over the garden wall from West 54th Street. This new foliage, he notes, shades his works' rising, rusting arcs with an air of mystery. Serra says, \"I'm not thinking about the</td>\n",
       "    </tr>\n",
       "  </tbody>\n",
       "</table>"
      ],
      "text/plain": [
       "<IPython.core.display.HTML object>"
      ]
     },
     "metadata": {},
     "output_type": "display_data"
    }
   ],
   "source": [
    "learn.show_results(learner=learn, max_n=2)"
   ]
  }
 ],
 "metadata": {
  "kernelspec": {
   "display_name": "Python 3",
   "language": "python",
   "name": "python3"
  },
  "language_info": {
   "codemirror_mode": {
    "name": "ipython",
    "version": 3
   },
   "file_extension": ".py",
   "mimetype": "text/x-python",
   "name": "python",
   "nbconvert_exporter": "python",
   "pygments_lexer": "ipython3",
   "version": "3.7.3"
  }
 },
 "nbformat": 4,
 "nbformat_minor": 2
}
